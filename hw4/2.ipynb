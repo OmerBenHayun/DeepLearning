{
 "cells": [
  {
   "cell_type": "markdown",
   "metadata": {},
   "source": [
    "$$\n",
    "\\newcommand{\\mat}[1]{\\boldsymbol {#1}}\n",
    "\\newcommand{\\mattr}[1]{\\boldsymbol {#1}^\\top}\n",
    "\\newcommand{\\matinv}[1]{\\boldsymbol {#1}^{-1}}\n",
    "\\newcommand{\\vec}[1]{\\boldsymbol {#1}}\n",
    "\\newcommand{\\vectr}[1]{\\boldsymbol {#1}^\\top}\n",
    "\\newcommand{\\rvar}[1]{\\mathrm {#1}}\n",
    "\\newcommand{\\rvec}[1]{\\boldsymbol{\\mathrm{#1}}}\n",
    "\\newcommand{\\diag}{\\mathop{\\mathrm {diag}}}\n",
    "\\newcommand{\\set}[1]{\\mathbb {#1}}\n",
    "\\newcommand{\\cset}[1]{\\mathcal{#1}}\n",
    "\\newcommand{\\norm}[1]{\\left\\lVert#1\\right\\rVert}\n",
    "\\newcommand{\\pderiv}[2]{\\frac{\\partial #1}{\\partial #2}}\n",
    "\\newcommand{\\bb}[1]{\\boldsymbol{#1}}\n",
    "\\newcommand{\\E}[2][]{\\mathbb{E}_{#1}\\left[#2\\right]}\n",
    "\\newcommand{\\ip}[3]{\\left<#1,#2\\right>_{#3}}\n",
    "\\newcommand{\\given}[]{\\,\\middle\\vert\\,}\n",
    "\\newcommand{\\DKL}[2]{\\cset{D}_{\\text{KL}}\\left(#1\\,\\Vert\\, #2\\right)}\n",
    "\\newcommand{\\grad}[]{\\nabla}\n",
    "$$\n",
    "# Part 1: Deep Reinforcement Learning\n",
    "<a id=part1></a>"
   ]
  },
  {
   "cell_type": "markdown",
   "metadata": {},
   "source": [
    "In the tutorial we have seen value-based reinforcement learning, in which we learn to approximate the action-value function $q(s,a)$.\n",
    "\n",
    "In this exercise we'll explore a different approach, directly learning the agent's policy distribution, $\\pi(a|s)$\n",
    "by using *policy gradients*, in order to safely land on the moon!"
   ]
  },
  {
   "cell_type": "code",
   "execution_count": 1,
   "metadata": {},
   "outputs": [],
   "source": [
    "%load_ext autoreload\n",
    "%autoreload 2\n",
    "%matplotlib inline\n",
    "\n",
    "import unittest\n",
    "import os\n",
    "import sys\n",
    "import pathlib\n",
    "import urllib\n",
    "import shutil\n",
    "import re\n",
    "\n",
    "import numpy as np\n",
    "import torch\n",
    "import torch.nn as nn\n",
    "import torch.optim as optim\n",
    "import matplotlib.pyplot as plt"
   ]
  },
  {
   "cell_type": "code",
   "execution_count": 2,
   "metadata": {},
   "outputs": [
    {
     "name": "stdout",
     "output_type": "stream",
     "text": [
      "Using device: cpu\n"
     ]
    }
   ],
   "source": [
    "test = unittest.TestCase()\n",
    "plt.rcParams.update({'font.size': 12})\n",
    "device = torch.device('cuda' if torch.cuda.is_available() else 'cpu')\n",
    "\n",
    "# Prefer CPU, GPU won't help much in this assignment\n",
    "device = 'cpu'\n",
    "print('Using device:', device)\n",
    "\n",
    "# Seed for deterministic tests\n",
    "SEED = 42"
   ]
  },
  {
   "cell_type": "markdown",
   "metadata": {},
   "source": [
    "Some technical notes before we begin:\n",
    "\n",
    "- This part does not require a GPU. We won't need large models, and the computation bottleneck will be the generation of episodes to train on.\n",
    "- In order to run this notebook on the server, you must prepend the `xvfb-run` command to create a virtual screen. For example,\n",
    "    - to run the jupyter lab script with `srun` do\n",
    "        ```\n",
    "        srun -c4 --gres=gpu:1 xvfb-run -s \"-screen 0 1440x900x24\" ./jupyter-lab.sh\n",
    "        ```\n",
    "    - To run the submission script, do\n",
    "        ```\n",
    "        xvfb-run -s \"-screen 0 1440x900x24\" python main.py prepare-submission ...\n",
    "        ```\n",
    "    and so on.\n",
    "- The OpenAI `gym` library is not officially supported on windows. However it should be possible to install and run the necessary environment for this exercise. However, we cannot provide you with technical support for this. If you have trouble installing locally, we suggest running on the course server."
   ]
  },
  {
   "cell_type": "markdown",
   "metadata": {},
   "source": [
    "## Policy gradients\n",
    "<a id=part1_1></a>"
   ]
  },
  {
   "cell_type": "markdown",
   "metadata": {},
   "source": [
    "Recall from the tutorial that we define the **policy** of an agent as the conditional distribution,\n",
    "$$\n",
    "\\pi(a|s) = \\Pr(a_t=a\\vert s_t=s),\n",
    "$$\n",
    "which defines how likely the agent is to take action $a$ at state $s$.\n",
    "\n",
    "Furthermore we define the action-value function,\n",
    "$$\n",
    "q_{\\pi}(s,a) = \\E{g_t(\\tau)|s_t = s,a_t=a,\\pi}\n",
    "$$\n",
    "where \n",
    "$$\n",
    "g_t(\\tau) = r_{t+1}+\\gamma r_{t+2} + \\dots = \\sum_{k=0}^{\\infty} \\gamma^k r_{t+1+k},\n",
    "$$\n",
    "is the total discounted reward of a specific trajectory $\\tau$ from time $t$, and the expectation in $q$ is over all possible\n",
    "trajectories,\n",
    "$\n",
    "\\tau=\\left\\{ (s_0,a_0,r_1,s_1), \\dots (s_T,a_T,r_{T+1},s_{T+1}) \\right\\}.\n",
    "$"
   ]
  },
  {
   "cell_type": "markdown",
   "metadata": {},
   "source": [
    "In the tutorial we saw that we can learn a value function starting with some random function and\n",
    "updating it iteratively by using the **Bellman optimality equation**.\n",
    "Given that we have some action-value function, we can immediately create a policy based on that\n",
    "by simply selecting an action which maximize the action-value at the current state, i.e.\n",
    "$$\n",
    "\\pi(a|s) =\n",
    "\\begin{cases}\n",
    "1, & a = \\arg\\max_{a'\\in\\cset{A}} q(s,a') \\\\\n",
    "0, & \\text{else}\n",
    "\\end{cases}.\n",
    "$$\n",
    "This is called $q$-learning. This approach aims to obtain a policy indirectly through the action-value function.\n",
    "Yet, in most cases we don't actually care about knowing the value of particular states,\n",
    "since all we need is a good policy for our agent. \n",
    "\n",
    "Here we'll take a different approach and learn a policy distribution $\\pi(a|s)$ directly - by using **policy gradients**."
   ]
  },
  {
   "cell_type": "markdown",
   "metadata": {},
   "source": [
    "### Formalism"
   ]
  },
  {
   "cell_type": "markdown",
   "metadata": {},
   "source": [
    "We define a parametric policy, $\\pi_\\vec{\\theta}(a|s)$, and maximize total discounted reward (or minimize the negative reward):\n",
    "$$\n",
    "\\mathcal{L}(\\vec{\\theta})=\\E[\\tau]{-g(\\tau)|\\pi_\\vec{\\theta}} = -\\int g(\\tau)p(\\tau|\\vec{\\theta})d\\tau,\n",
    "$$\n",
    "where $p(\\tau|\\vec{\\theta})$ is the probability of a specific trajectory $\\tau$ under the policy defined by $\\vec{\\theta}$.\n"
   ]
  },
  {
   "cell_type": "markdown",
   "metadata": {},
   "source": [
    "Since we want to find the parameters $\\vec{\\theta}$ which minimize $\\mathcal{L}(\\vec{\\theta})$, we'll compute the gradient w.r.t. $\\vec{\\theta}$:\n",
    "$$\n",
    "\\grad\\mathcal{L}(\\vec{\\theta}) = -\\int g(\\tau)\\grad p(\\tau|\\vec{\\theta})d\\tau.\n",
    "$$\n",
    "\n",
    "Unfortunately, if we try to write $p(\\tau|\\vec{\\theta})$ explicitly,\n",
    "we find that computing it's gradient with respect to $\\vec{\\theta}$ is\n",
    "quite intractable due to a huge product of terms depending on $\\vec{\\theta}$:\n",
    "$$\n",
    "p(\\tau|\\vec{\\theta})=p\\left(\\left\\{ (s_t,a_t,r_{t+1},s_{t+1})\\right\\}_{t\\geq0}\\given\\vec{\\theta}\\right)\n",
    "=p(s_0)\\prod_{t\\geq0} \\pi_{\\vec{\\theta}}(a_t|s_t)p(s_{t+1}|s_t,a_t).\n",
    "$$"
   ]
  },
  {
   "cell_type": "markdown",
   "metadata": {},
   "source": [
    "However, by using the fact that $\\grad_{x}\\log(f(x))=\\frac{\\grad_{x}f(x)}{f(x)}$, we can convert the product into a sum:\n",
    "$$\n",
    "\\begin{align}\n",
    "\\grad\\mathcal{L}(\\vec{\\theta})\n",
    "&= -\\int g(\\tau)\\grad p(\\tau|\\vec{\\theta})d\\tau\n",
    "= -\\int g(\\tau)\\frac{\\grad p(\\tau|\\vec{\\theta})}{p(\\tau|\\vec{\\theta})}p(\\tau|\\vec{\\theta})d\\tau \\\\\n",
    "&= -\\int g(\\tau)\\grad\\log\\left(p(\\tau|\\vec{\\theta})\\right)p(\\tau|\\vec{\\theta})d\\tau \\\\\n",
    "&= -\\int g(\\tau)\\grad\\log\\left( p(s_0)\\prod_{t\\geq0} \\pi_{\\vec{\\theta}}(a_t|s_t)p(s_{t+1}|s_t,a_t) \\right)\n",
    "p(\\tau|\\vec{\\theta})d\\tau \\\\\n",
    "&= -\\int g(\\tau)\\grad\\left( \\log p(s_0) + \\sum_{t\\geq0} \\log \\pi_{\\vec{\\theta}}(a_t|s_t) + \n",
    "\\sum_{t\\geq0}\\log p(s_{t+1}|s_t,a_t) \\right) p(\\tau|\\vec{\\theta})d\\tau \\\\\n",
    "&= -\\int g(\\tau)\\sum_{t\\geq0} \\grad\\log \\pi_{\\vec{\\theta}}(a_t|s_t) p(\\tau|\\vec{\\theta})d\\tau \\\\\n",
    "&= \\E[\\tau]{-g(\\tau)\\sum_{t\\geq0} \\grad\\log \\pi_{\\vec{\\theta}}(a_t|s_t)}.\n",
    "\\end{align}\n",
    "$$"
   ]
  },
  {
   "cell_type": "markdown",
   "metadata": {},
   "source": [
    "This is the \"vanilla\" version of the policy gradient. We can interpret is as a weighted log-likelihood function.\n",
    "The log-policy is the log-likelihood term we wish to maximize and the total discounted reward acts as a weight: high-return positive\n",
    "trajectories will cause the probability of actions taken during them to increase, and negative-return trajectories will cause the\n",
    "probabilities of actions taken to decrease.\n",
    "\n",
    "In the following figures we see three trajectories: high-return positive-reward (green), low-return positive-reward (yellow) and negative-return (red) and the action probabilities along the trajectories after the update. Credit: Sergey Levine.\n",
    "\n",
    "|<strong></strong>||\n",
    "|-----| ----|\n",
    "|<img src=\"imgs/pg1.png\" height=\"200\">|<img src=\"imgs/pg2.png\" height=\"200\">|\n"
   ]
  },
  {
   "cell_type": "markdown",
   "metadata": {},
   "source": [
    "The major drawback of the policy-gradient is it's high variance, which causes erratic optimization behavior and therefore slow convergence.\n",
    "One reason for this is that the log-policy weight term, $g(\\tau)$ can vary wildly between different trajectories, even if they're similar in\n",
    "actions. Later on we'll implement the loss and explore some methods of variance reduction."
   ]
  },
  {
   "cell_type": "markdown",
   "metadata": {},
   "source": [
    "### Landing on the moon with policy gradients"
   ]
  },
  {
   "cell_type": "markdown",
   "metadata": {},
   "source": [
    "In the spirit of the recent achievements of the Israeli space industry,\n",
    "we'll apply our reinforcement learning skills to solve a simple game called **LunarLander**.\n",
    "\n",
    "This game is available as an `environment` in OpenAI `gym`.\n",
    "\n",
    "<video loop autoplay src=\"http://gym.openai.com/videos/2019-04-06--My9IiAbqha/LunarLander-v2/original.mp4\" />"
   ]
  },
  {
   "cell_type": "markdown",
   "metadata": {},
   "source": [
    "In this environment, you need to control the lander and get it to land safely on the moon.\n",
    "To do so, you must apply bottom, right or left thrusters (each are either fully on or fully off)\n",
    "and get it to land within the designated zone as quickly as possible and with minimal wasted fuel."
   ]
  },
  {
   "cell_type": "code",
   "execution_count": 3,
   "metadata": {},
   "outputs": [],
   "source": [
    "import gym\n",
    "\n",
    "# Just for fun :) ... but also to re-define the default max number of steps\n",
    "ENV_NAME = 'Beresheet-v2'\n",
    "MAX_EPISODE_STEPS = 300\n",
    "if ENV_NAME not in gym.envs.registry.env_specs:\n",
    "    gym.register(\n",
    "        id=ENV_NAME,\n",
    "        entry_point='gym.envs.box2d:LunarLander',\n",
    "        max_episode_steps=MAX_EPISODE_STEPS,\n",
    "        reward_threshold=200,\n",
    "    )"
   ]
  },
  {
   "cell_type": "code",
   "execution_count": 4,
   "metadata": {},
   "outputs": [
    {
     "name": "stdout",
     "output_type": "stream",
     "text": [
      "<TimeLimit<LunarLander<Beresheet-v2>>>\n",
      "observations space: Box(8,)\n",
      "action space: Discrete(4)\n"
     ]
    }
   ],
   "source": [
    "import gym\n",
    "\n",
    "env = gym.make(ENV_NAME)\n",
    "\n",
    "print(env)\n",
    "print(f'observations space: {env.observation_space}')\n",
    "print(f'action space: {env.action_space}')\n",
    "\n",
    "ENV_N_ACTIONS = env.action_space.n\n",
    "ENV_N_OBSERVATIONS = env.observation_space.shape[0]"
   ]
  },
  {
   "cell_type": "markdown",
   "metadata": {},
   "source": [
    "The observations at each step is the Lander's position, velocity, angle, angular velocity and ground contact state.\n",
    "The actions are no-op, fire left truster, bottom thruster and right thruster.\n",
    "\n",
    "You are **highly encouraged** to read the [documentation](https://github.com/openai/gym/blob/master/gym/envs/box2d/lunar_lander.py) in the source code of the `LunarLander` environment to understand the reward system,\n",
    "and see how the actions and observations are created."
   ]
  },
  {
   "cell_type": "markdown",
   "metadata": {},
   "source": [
    "### Policy network and Agent"
   ]
  },
  {
   "cell_type": "markdown",
   "metadata": {},
   "source": [
    "Let's start with our policy-model. This will be a simple neural net, which should take an observation and return a score for each possible action."
   ]
  },
  {
   "cell_type": "markdown",
   "metadata": {},
   "source": [
    "**TODO**:\n",
    "1. Implement all methods in the `PolicyNet` class in the `hw4/rl_pg.py` module.\n",
    "   Start small. A simple MLP with a few hidden layers is a good starting point. You can come back and change it later based on the the experiments. The we'll use the `build_for_env` method to instantiate a `PolicyNet` based on the configuration of a given environment.\n",
    "2. If you need hyperparameters to configure your model (e.g. number of hidden layers, sizes, etc.), add them in `part1_pg_hyperparams()` in `hw4/answers.py`."
   ]
  },
  {
   "cell_type": "code",
   "execution_count": 5,
   "metadata": {},
   "outputs": [
    {
     "data": {
      "text/plain": [
       "PolicyNet(\n",
       "  (model): Sequential(\n",
       "    (0): Sequential(\n",
       "      (0): Linear(in_features=8, out_features=32, bias=True)\n",
       "      (1): PReLU(num_parameters=1)\n",
       "    )\n",
       "    (1): Sequential(\n",
       "      (0): Linear(in_features=32, out_features=32, bias=True)\n",
       "      (1): PReLU(num_parameters=1)\n",
       "    )\n",
       "    (2): Sequential(\n",
       "      (0): Linear(in_features=32, out_features=4, bias=True)\n",
       "    )\n",
       "  )\n",
       ")"
      ]
     },
     "execution_count": 5,
     "metadata": {},
     "output_type": "execute_result"
    }
   ],
   "source": [
    "import hw4.rl_pg as hw4pg\n",
    "import hw4.answers\n",
    "\n",
    "hp = hw4.answers.part1_pg_hyperparams()\n",
    "\n",
    "# You can add keyword-args to this function which will be populated from the hyperparameters dict.\n",
    "p_net = hw4pg.PolicyNet.build_for_env(env, device, **hp)\n",
    "p_net"
   ]
  },
  {
   "cell_type": "markdown",
   "metadata": {},
   "source": [
    "Now we need an **agent**. The purpose of our agent will be to act according to the current policy and generate experiences.\n",
    "Our `PolicyAgent` will use a `PolicyNet` as the current policy function.\n",
    "\n",
    "\n",
    "We'll also define some extra datatypes to help us represent the data generated by our agent.\n",
    "You can find the `Experience`, `Episode` and `TrainBatch` datatypes in the `hw4/rl_pg.py` module."
   ]
  },
  {
   "cell_type": "markdown",
   "metadata": {},
   "source": [
    "**TODO**: Implement the `current_action_distribution()` method of the `PolicyAgent` class in the `hw4/rl_pg.py` module."
   ]
  },
  {
   "cell_type": "code",
   "execution_count": 6,
   "metadata": {},
   "outputs": [
    {
     "name": "stdout",
     "output_type": "stream",
     "text": [
      "tensor([0.2342, 0.2721, 0.2915, 0.2022])\n"
     ]
    }
   ],
   "source": [
    "for i in range (10):\n",
    "    agent = hw4pg.PolicyAgent(env, p_net, device)\n",
    "    d = agent.current_action_distribution()\n",
    "    test.assertSequenceEqual(d.shape, (env.action_space.n,))\n",
    "    test.assertAlmostEqual(d.sum(), 1.0, delta=1e-5)\n",
    "    \n",
    "print(d)"
   ]
  },
  {
   "cell_type": "markdown",
   "metadata": {},
   "source": [
    "**TODO**: Implement the `step()` method of the `PolicyAgent`."
   ]
  },
  {
   "cell_type": "code",
   "execution_count": 7,
   "metadata": {},
   "outputs": [
    {
     "name": "stdout",
     "output_type": "stream",
     "text": [
      "Experience(state=tensor([ 0.0069,  1.4108,  0.7033, -0.0065, -0.0080, -0.1593,  0.0000,  0.0000]), action=3, reward=-2.1020319490220047, is_done=False)\n"
     ]
    }
   ],
   "source": [
    "agent = hw4pg.PolicyAgent(env, p_net, device)\n",
    "exp = agent.step()\n",
    "\n",
    "test.assertIsInstance(exp, hw4pg.Experience)\n",
    "print(exp)"
   ]
  },
  {
   "cell_type": "markdown",
   "metadata": {},
   "source": [
    "To test our agent, we'll write some code that allows it to play an environment. We'll use the `Monitor`\n",
    "wrapper in `gym` to generate a video of the episode for visual debugging."
   ]
  },
  {
   "cell_type": "markdown",
   "metadata": {},
   "source": [
    "**TODO**: Complete the implementation of the `monitor_episode()` method of the `PolicyAgent`."
   ]
  },
  {
   "cell_type": "code",
   "execution_count": 8,
   "metadata": {},
   "outputs": [],
   "source": [
    "env, n_steps, reward = agent.monitor_episode(ENV_NAME, p_net, device=device)"
   ]
  },
  {
   "cell_type": "markdown",
   "metadata": {},
   "source": [
    "To display the Monitor video in this notebook, we'll use a helper function from our `jupyter_utils` and a small wrapper that extracts the path of the last video file. "
   ]
  },
  {
   "cell_type": "code",
   "execution_count": 9,
   "metadata": {},
   "outputs": [],
   "source": [
    "import cs236781.jupyter_utils as jupyter_utils\n",
    "\n",
    "def show_monitor_video(monitor_env, idx=0, **kw):\n",
    "    # Extract video path\n",
    "    video_path = monitor_env.videos[idx][0]\n",
    "    video_path = os.path.relpath(video_path, start=os.path.curdir)\n",
    "    \n",
    "    # Use helper function to embed the video\n",
    "    return jupyter_utils.show_video_in_notebook(video_path, **kw)"
   ]
  },
  {
   "cell_type": "code",
   "execution_count": 10,
   "metadata": {},
   "outputs": [
    {
     "name": "stdout",
     "output_type": "stream",
     "text": [
      "Episode ran for 130 steps. Total reward: -528.27\n"
     ]
    },
    {
     "data": {
      "text/html": [
       "<video src=\"data:video/mp4;base64,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\" controls autoplay width=\"500\" height=\"auto\" />"
      ],
      "text/plain": [
       "<IPython.core.display.HTML object>"
      ]
     },
     "execution_count": 10,
     "metadata": {},
     "output_type": "execute_result"
    }
   ],
   "source": [
    "print(f'Episode ran for {n_steps} steps. Total reward: {reward:.2f}')\n",
    "\n",
    "show_monitor_video(env)"
   ]
  },
  {
   "cell_type": "markdown",
   "metadata": {},
   "source": [
    "### Training data"
   ]
  },
  {
   "cell_type": "markdown",
   "metadata": {},
   "source": [
    "The next step is to create data to train on.\n",
    "We need to train on batches of state-action pairs, so that our network can learn to predict the actions.\n",
    "\n",
    "We'll split this task into three parts:\n",
    "1. Generate a batch of `Episode`s, by using an `Agent` that's playing according to our current policy network.\n",
    "   Each `Episode` object contains the `Experience` objects created by the agent.\n",
    "2. Calculate the total discounted reward for each state we encountered and action we took. This is our action-value estimate.\n",
    "3. Convert the `Episode`s into a batch of tensors to train on.\n",
    "   Each batch will contain states, action taken per state, reward accrued, and the calculated estimated state-values.\n",
    "   These will be stored in a `TrainBatch` object.\n"
   ]
  },
  {
   "cell_type": "markdown",
   "metadata": {},
   "source": [
    "**TODO**: Complete the implementation of the `episode_batch_generator()` method in the `TrainBatchDataset` class within the `hw4.rl_data` module. This will address part 1 in the list above."
   ]
  },
  {
   "cell_type": "code",
   "execution_count": 11,
   "metadata": {},
   "outputs": [
    {
     "name": "stdout",
     "output_type": "stream",
     "text": [
      "First episode: Episode(total_reward=-328.40, #experences=130)\n"
     ]
    }
   ],
   "source": [
    "import hw4.rl_data as hw4data\n",
    "\n",
    "def agent_fn():\n",
    "    env = gym.make(ENV_NAME)\n",
    "    hp = hw4.answers.part1_pg_hyperparams()\n",
    "    p_net = hw4pg.PolicyNet.build_for_env(env, device, **hp)\n",
    "    return hw4pg.PolicyAgent(env, p_net, device)\n",
    "    \n",
    "ds = hw4data.TrainBatchDataset(agent_fn, episode_batch_size=8, gamma=0.9)\n",
    "batch_gen = ds.episode_batch_generator()\n",
    "b = next(batch_gen)\n",
    "print('First episode:', b[0])\n",
    "\n",
    "test.assertEqual(len(b), 8)\n",
    "for ep in b:\n",
    "    test.assertIsInstance(ep, hw4data.Episode)\n",
    "    \n",
    "    # Check that it's a full episode\n",
    "    is_done = [exp.is_done for exp in ep.experiences]\n",
    "    test.assertFalse(any(is_done[0:-1]))\n",
    "    test.assertTrue(is_done[-1])"
   ]
  },
  {
   "cell_type": "markdown",
   "metadata": {},
   "source": [
    "**TODO**: Complete the implementation of the `calc_qvals()` method in the `Episode` class.\n",
    "This will address part 2.\n",
    "These q-values are an estimate of the actual action value function: $\\hat{q}_{t} = \\sum_{t'\\geq t} \\gamma^{t'}r_{t'+1}$."
   ]
  },
  {
   "cell_type": "code",
   "execution_count": 12,
   "metadata": {},
   "outputs": [],
   "source": [
    "np.random.seed(SEED)\n",
    "test_rewards = np.random.randint(-10, 10, 100)\n",
    "test_experiences = [hw4pg.Experience(None,None,r,False) for r in test_rewards] \n",
    "test_episode = hw4data.Episode(np.sum(test_rewards), test_experiences)\n",
    "\n",
    "qvals = test_episode.calc_qvals(0.9)\n",
    "qvals = list(qvals)\n",
    "\n",
    "expected_qvals = np.load(os.path.join('tests', 'assets', 'part1_expected_qvals.npy'))\n",
    "for i in range(len(test_rewards)):\n",
    "    test.assertAlmostEqual(expected_qvals[i], qvals[i], delta=1e-3)"
   ]
  },
  {
   "cell_type": "markdown",
   "metadata": {},
   "source": [
    "**TODO**: Complete the implementation of the `from_episodes()` method in the `TrainBatch` class.\n",
    "This will address part 3.\n",
    "\n",
    "Notes:\n",
    "- The `TrainBatchDataset` class provides a generator function that will use the above function to lazily generate batches of training samples and labels on demand.\n",
    "- This allows us to use a standard `PyTorch` dataloader to wrap our Dataset and provide us with parallel data loading for free!\n",
    "  This means we can run multiple environments with multiple agents in separate background processes to generate data for training and thus prevent the data loading bottleneck which is caused by the fact that we must generate full Episodes to train on in order to calculate the q-values.\n",
    "- We'll set the `DataLoader`'s `batch_size` to `None` because we have already implemented custom batching in our dataset."
   ]
  },
  {
   "cell_type": "code",
   "execution_count": 13,
   "metadata": {},
   "outputs": [
    {
     "name": "stdout",
     "output_type": "stream",
     "text": [
      "TrainBatch(states: torch.Size([654, 8]), actions: torch.Size([654]), q_vals: torch.Size([654])), num_episodes: 8)\n",
      "#0: TrainBatch(states: torch.Size([686, 8]), actions: torch.Size([686]), q_vals: torch.Size([686])), num_episodes: 8)\n",
      "#1: TrainBatch(states: torch.Size([701, 8]), actions: torch.Size([701]), q_vals: torch.Size([701])), num_episodes: 8)\n",
      "#2: TrainBatch(states: torch.Size([775, 8]), actions: torch.Size([775]), q_vals: torch.Size([775])), num_episodes: 8)\n",
      "#3: TrainBatch(states: torch.Size([657, 8]), actions: torch.Size([657]), q_vals: torch.Size([657])), num_episodes: 8)\n",
      "#4: TrainBatch(states: torch.Size([731, 8]), actions: torch.Size([731]), q_vals: torch.Size([731])), num_episodes: 8)\n",
      "#5: TrainBatch(states: torch.Size([635, 8]), actions: torch.Size([635]), q_vals: torch.Size([635])), num_episodes: 8)\n",
      "#6: TrainBatch(states: torch.Size([681, 8]), actions: torch.Size([681]), q_vals: torch.Size([681])), num_episodes: 8)\n"
     ]
    }
   ],
   "source": [
    "from torch.utils.data import DataLoader\n",
    "\n",
    "ds = hw4data.TrainBatchDataset(agent_fn, episode_batch_size=8, gamma=0.9)\n",
    "print(next(iter(ds)))\n",
    "dl = DataLoader(ds, batch_size=None, num_workers=2) # Run multiple agents/env in separate worker process\n",
    "\n",
    "\n",
    "for i, train_batch in enumerate(dl):\n",
    "    states, actions, qvals, reward_mean = train_batch\n",
    "    print(f'#{i}: {train_batch}')\n",
    "    test.assertEqual(states.shape[0], actions.shape[0])\n",
    "    test.assertEqual(qvals.shape[0], actions.shape[0])\n",
    "    test.assertEqual(states.shape[1], env.observation_space.shape[0])\n",
    "    if i > 5:\n",
    "        break"
   ]
  },
  {
   "cell_type": "markdown",
   "metadata": {},
   "source": [
    "### Loss functions"
   ]
  },
  {
   "cell_type": "markdown",
   "metadata": {},
   "source": [
    "As usual, we need a loss function to optimize over.\n",
    "We'll calculate three types of losses:\n",
    "1. The causal vanilla policy gradient loss.\n",
    "1. The policy gradient loss, with a baseline to reduce variance.\n",
    "2. An entropy-based loss whos purpose is to diversify the agent's action selection,\n",
    "   and prevent it from being \"too sure\" about its actions.\n",
    "   This loss will be used together with one of the above losses."
   ]
  },
  {
   "cell_type": "markdown",
   "metadata": {},
   "source": [
    "#### Causal vanilla policy-gradient"
   ]
  },
  {
   "cell_type": "markdown",
   "metadata": {},
   "source": [
    "We have derived the policy-gradient as\n",
    "$$\n",
    "\\grad\\mathcal{L}(\\vec{\\theta}) = \\E[\\tau]{-g(\\tau)\\sum_{t\\geq0} \\grad\\log \\pi_{\\vec{\\theta}}(a_t|s_t)}.\n",
    "$$\n",
    "\n",
    "By writing the discounted reward explicitly and enforcing causality, i.e. the action taken at time $t$ can't affect\n",
    "the reward at time $t'<t$, we can get a slightly lower-variance version of the policy gradient:\n",
    "\n",
    "$$\n",
    "\\grad\\mathcal{L}_{\\text{PG}}(\\vec{\\theta}) = \n",
    "\\E[\\tau]{-\\sum_{t\\geq0} \\left(\\sum_{t'\\geq t} \\gamma^{t'}r_{t'+1} \\right)\\grad\\log \\pi_{\\vec{\\theta}}(a_t|s_t)}.\n",
    "$$"
   ]
  },
  {
   "cell_type": "markdown",
   "metadata": {},
   "source": [
    "In practice, the expectation over trajectories is calculated using a Monte-Carlo approach, i.e. simply sampling $N$\n",
    "trajectories and average the term inside the expectation. Therefore, we will use the following estimated version of the policy gradient:\n",
    "\n",
    "$$\n",
    "\\begin{align}\n",
    "\\hat\\grad\\mathcal{L}_{\\text{PG}}(\\vec{\\theta})\n",
    "&=-\\frac{1}{N}\\sum_{i=1}^{N}\\sum_{t\\geq0} \\left(\\sum_{t'\\geq t} \\gamma^{t'}r_{i,t'+1} \\right)\\grad\\log \\pi_{\\vec{\\theta}}(a_{i,t}|s_{i,t}) \\\\\n",
    "&=-\\frac{1}{N}\\sum_{i=1}^{N}\\sum_{t\\geq0} \\hat{q}_{i,t} \\grad\\log \\pi_{\\vec{\\theta}}(a_{i,t}|s_{i,t}).\n",
    "\\end{align}\n",
    "$$\n",
    "\n",
    "Note the use of the notation $\\hat{q}_{i,t}$ to represent the estimated action-value at time $t$ in the sampled trajectory $i$.\n",
    "Here $\\hat{q}_{i,t}$ is acting as the weight-term for the policy gradient."
   ]
  },
  {
   "cell_type": "markdown",
   "metadata": {},
   "source": [
    "**TODO**: Complete the implementation of the `VanillaPolicyGradientLoss` class in the `hw4/rl_pg.py` module."
   ]
  },
  {
   "cell_type": "code",
   "execution_count": 14,
   "metadata": {},
   "outputs": [
    {
     "name": "stdout",
     "output_type": "stream",
     "text": [
      "loss = tensor(-35.5355)\n"
     ]
    }
   ],
   "source": [
    "# Ensure deterministic run\n",
    "env = gym.make(ENV_NAME)\n",
    "env.seed(SEED)\n",
    "torch.manual_seed(SEED)\n",
    "\n",
    "def agent_fn():\n",
    "    # Use a simple \"network\" here, so that this test doesn't depend on your specific PolicyNet implementation\n",
    "    p_net_test = nn.Linear(8, 4)\n",
    "    agent = hw4pg.PolicyAgent(env, p_net_test)\n",
    "    return agent\n",
    "\n",
    "dataloader = hw4data.TrainBatchDataset(agent_fn, gamma=0.9, episode_batch_size=4)\n",
    "\n",
    "test_batch = next(iter(dataloader))\n",
    "test_action_scores = torch.randn(len(test_batch), env.action_space.n)\n",
    "\n",
    "loss_fn_p = hw4pg.VanillaPolicyGradientLoss()\n",
    "loss_p, _ = loss_fn_p(test_batch, test_action_scores)\n",
    "\n",
    "print('loss =', loss_p)\n",
    "test.assertAlmostEqual(loss_p.item(), -35.535522, delta=1e-3)"
   ]
  },
  {
   "cell_type": "markdown",
   "metadata": {},
   "source": [
    "#### Policy-gradient with baseline"
   ]
  },
  {
   "cell_type": "markdown",
   "metadata": {},
   "source": [
    "Another way to reduce the variance of our gradient is to use relative weighting of the log-policy instead of absolute reward values.\n",
    "$$\n",
    "\\hat\\grad\\mathcal{L}_{\\text{BPG}}(\\vec{\\theta})\n",
    "=-\\frac{1}{N}\\sum_{i=1}^{N}\\sum_{t\\geq0} \\left(\\hat{q}_{i,t}-b\\right) \\grad\\log \\pi_{\\vec{\\theta}}(a_{i,t}|s_{i,t}).\n",
    "$$\n",
    "In other words, we don't measure a trajectory's worth by it's total reward, but by how much better that total reward is relative to some\n",
    "expected (\"baseline\") reward value, denoted above by $b$.\n",
    "Note that subtracting a baseline has no effect on the expected value of the policy gradient. It's easy to prove this directly by definition.\n",
    "\n",
    "Here we'll implement a very simple baseline (not optimal in terms of variance reduction): the average of the estimated state-values $\\hat{q}_{i,t}$."
   ]
  },
  {
   "cell_type": "markdown",
   "metadata": {},
   "source": [
    "**TODO**: Complete the implementation of the `BaselinePolicyGradientLoss` class in the `hw4/rl_pg.py` module."
   ]
  },
  {
   "cell_type": "code",
   "execution_count": 15,
   "metadata": {},
   "outputs": [
    {
     "name": "stdout",
     "output_type": "stream",
     "text": [
      "loss = tensor(-2.4665)\n"
     ]
    }
   ],
   "source": [
    "# Using the same batch and action_scores from above cell\n",
    "loss_fn_p = hw4pg.BaselinePolicyGradientLoss()\n",
    "loss_p, _ = loss_fn_p(test_batch, test_action_scores)\n",
    "\n",
    "print('loss =', loss_p)\n",
    "test.assertAlmostEqual(loss_p.item(), -2.4665009, delta=1e-3)"
   ]
  },
  {
   "cell_type": "markdown",
   "metadata": {},
   "source": [
    "#### Entropy loss"
   ]
  },
  {
   "cell_type": "markdown",
   "metadata": {},
   "source": [
    "The entropy of a probability distribution (in our case the policy), is\n",
    "$$\n",
    "H(\\pi) = -\\sum_{a} \\pi(a|s)\\log\\pi(a|s).\n",
    "$$\n",
    "The entropy is always positive and obtains it's maximum for a uniform distribution.\n",
    "We'll use the entropy of the policy as a bonus, i.e. we'll try to maximize it.\n",
    "The idea is the prevent the policy distribution from becoming too narrow and thus promote the agent's exploration."
   ]
  },
  {
   "cell_type": "markdown",
   "metadata": {},
   "source": [
    "First, we'll calculate the maximal possible entropy value of the action distribution for a set number of possible actions.\n",
    "This will be used as a normalization term.\n",
    "\n",
    "**TODO**: Complete the implementation of the `calc_max_entropy()` method in the `ActionEntropyLoss` class."
   ]
  },
  {
   "cell_type": "code",
   "execution_count": 16,
   "metadata": {},
   "outputs": [
    {
     "name": "stdout",
     "output_type": "stream",
     "text": [
      "max_entropy =  1.3862943611198906\n"
     ]
    }
   ],
   "source": [
    "loss_fn_e = hw4pg.ActionEntropyLoss(env.action_space.n)\n",
    "print('max_entropy = ', loss_fn_e.max_entropy)\n",
    "\n",
    "test.assertAlmostEqual(loss_fn_e.max_entropy, 1.38629436, delta=1e-3)"
   ]
  },
  {
   "cell_type": "markdown",
   "metadata": {},
   "source": [
    "**TODO**: Complete the implementation of the `forward()` method in the `ActionEntropyLoss` class."
   ]
  },
  {
   "cell_type": "code",
   "execution_count": 17,
   "metadata": {},
   "outputs": [
    {
     "name": "stdout",
     "output_type": "stream",
     "text": [
      "loss =  tensor(-0.7927)\n"
     ]
    }
   ],
   "source": [
    "loss_e, _ = loss_fn_e(test_batch, test_action_scores)\n",
    "print('loss = ', loss_e)\n",
    "\n",
    "test.assertAlmostEqual(loss_e.item(), -0.7927002, delta=1e-3)"
   ]
  },
  {
   "cell_type": "markdown",
   "metadata": {},
   "source": [
    "### Training"
   ]
  },
  {
   "cell_type": "markdown",
   "metadata": {},
   "source": [
    "We'll implement our training procedure as follows:\n",
    "\n",
    "1. Initialize the current policy to be a random policy.\n",
    "1. Sample $N$ trajectories from the environment using the current policy.\n",
    "2. Calculate the estimated $q$-values, $\\hat{q}_{i,t} = \\sum_{t'\\geq t} \\gamma^{t'}r_{i,t'+1}$ for each trajectory $i$.\n",
    "3. Calculate policy gradient estimate $\\hat\\grad\\mathcal{L}(\\vec{\\theta})$ as defined above.\n",
    "4. Perform SGD update $\\vec{\\theta}\\leftarrow\\vec{\\theta}-\\eta\\hat\\grad\\mathcal{L}(\\vec{\\theta})$.\n",
    "5. Repeat from step 2.\n",
    "\n",
    "This is known as the **REINFORCE** algorithm."
   ]
  },
  {
   "cell_type": "markdown",
   "metadata": {},
   "source": [
    "Fortunately, we've already implemented everything we need for steps 1-4 so we need only a bit more code to put it all together.\n",
    "\n",
    "The following block implements a wrapper, `train_pg` to create all the objects we need in order to train our policy gradient model.\n"
   ]
  },
  {
   "cell_type": "code",
   "execution_count": 18,
   "metadata": {},
   "outputs": [],
   "source": [
    "import hw4.answers\n",
    "from functools import partial\n",
    "\n",
    "ENV_NAME = \"Beresheet-v2\"\n",
    "\n",
    "def agent_fn_train(agent_type, p_net, seed, envs_dict):\n",
    "    winfo = torch.utils.data.get_worker_info()\n",
    "    wid = winfo.id if winfo else 0\n",
    "    seed = seed + wid if seed else wid\n",
    "\n",
    "    env = gym.make(ENV_NAME)\n",
    "    envs_dict[wid] = env\n",
    "    env.seed(seed)\n",
    "    np.random.seed(seed)\n",
    "    torch.manual_seed(seed)\n",
    "\n",
    "    return agent_type(env, p_net)\n",
    "\n",
    "def train_rl(agent_type, net_type, loss_fns, hp, seed=None, checkpoints_file=None, **train_kw):\n",
    "    print(f'hyperparams: {hp}')\n",
    "    \n",
    "    envs = {}\n",
    "    p_net = net_type(ENV_N_OBSERVATIONS, ENV_N_ACTIONS, **hp)\n",
    "    p_net.share_memory()\n",
    "    agent_fn = partial(agent_fn_train, agent_type, p_net, seed, envs)\n",
    "    \n",
    "    dataset = hw4data.TrainBatchDataset(agent_fn, hp['batch_size'], hp['gamma'])\n",
    "    dataloader = DataLoader(dataset, batch_size=None, num_workers=2)\n",
    "    optimizer = optim.Adam(p_net.parameters(), lr=hp['learn_rate'], eps=hp['eps'])\n",
    "    \n",
    "    trainer = hw4pg.PolicyTrainer(p_net, optimizer, loss_fns, dataloader, checkpoints_file)\n",
    "    try:\n",
    "        trainer.train(**train_kw)\n",
    "    except KeyboardInterrupt as e:\n",
    "        print('Training interrupted by user.')\n",
    "    finally:\n",
    "        for env in envs.values():\n",
    "            env.close()\n",
    "\n",
    "    # Include final model state\n",
    "    training_data = trainer.training_data\n",
    "    training_data['model_state'] = p_net.state_dict()\n",
    "    return training_data\n",
    "    \n",
    "def train_pg(baseline=False, entropy=False, **train_kwargs):\n",
    "    hp = hw4.answers.part1_pg_hyperparams()\n",
    "    \n",
    "    loss_fns = []\n",
    "    if baseline:\n",
    "        loss_fns.append(hw4pg.BaselinePolicyGradientLoss())\n",
    "    else:\n",
    "        loss_fns.append(hw4pg.VanillaPolicyGradientLoss())\n",
    "    if entropy:\n",
    "        loss_fns.append(hw4pg.ActionEntropyLoss(ENV_N_ACTIONS, hp['beta']))\n",
    "\n",
    "    return train_rl(hw4pg.PolicyAgent, hw4pg.PolicyNet, loss_fns, hp, **train_kwargs)"
   ]
  },
  {
   "cell_type": "markdown",
   "metadata": {},
   "source": [
    "The `PolicyTrainer` class implements the training loop, collects the losses and rewards and provides some useful checkpointing functionality.\n",
    "The training loop will generate batches of episodes and train on them until either:\n",
    "- The average total reward from the last `running_mean_len` episodes is greater than the `target_reward`, OR\n",
    "- The number of generated episodes reached `max_episodes`.\n",
    "\n",
    "Most of this class is already implemented for you. "
   ]
  },
  {
   "cell_type": "markdown",
   "metadata": {},
   "source": [
    "**TODO**:\n",
    "1. Complete the training loop by implementing the `train_batch()` method of the `PolicyTrainer`.\n",
    "2. Tweak the hyperparameters in the `part1_pg_hyperparams()` function within the `hw4/answers.py` module as needed. You get some sane defaults."
   ]
  },
  {
   "cell_type": "markdown",
   "metadata": {},
   "source": [
    "Let's check whether our model is actually training.\n",
    "We'll try to reach a very low (bad) target reward, just as a sanity check to see that training works.\n",
    "Your model should be able to reach this target reward within a few batches.\n",
    "\n",
    "You can increase the target reward and use this block to manually tweak your model and hyperparameters a few times."
   ]
  },
  {
   "cell_type": "code",
   "execution_count": 19,
   "metadata": {},
   "outputs": [
    {
     "name": "stdout",
     "output_type": "stream",
     "text": [
      "hyperparams: {'batch_size': 32, 'gamma': 0.9, 'beta': 0.5, 'learn_rate': 0.005, 'eps': 1e-08, 'h1': 32, 'h2': 32}\n",
      "=== Training...\n",
      "#1: step=00006246, loss_p=-22.31, m_reward(10)=-148.6 (best=-198.6):   3%|▎         | 64/2000 [00:02<01:30, 21.48it/s]\n",
      "\n",
      "=== 🚀 SOLVED - Target reward reached! 🚀\n"
     ]
    }
   ],
   "source": [
    "target_reward = -150 # VERY LOW target\n",
    "train_data = train_pg(target_reward=target_reward, seed=SEED, max_episodes=2000, running_mean_len=10)\n",
    "\n",
    "test.assertGreater(train_data['mean_reward'][-1], target_reward)"
   ]
  },
  {
   "cell_type": "markdown",
   "metadata": {},
   "source": [
    "### Experimenting with different losses"
   ]
  },
  {
   "cell_type": "markdown",
   "metadata": {},
   "source": [
    "We'll now run a few experiments to see the effect of diferent loss functions on the training dynamics. Namely, we'll try:\n",
    "1. Vanilla PG (`vpg`): No baseline, no entropy\n",
    "2. Baseline PG (`bpg`): Baseline, no entropy loss\n",
    "3. Entropy PG (`epg`): No baseline, with entropy loss\n",
    "3. Combined PG (`cpg`): Baseline, with entropy loss"
   ]
  },
  {
   "cell_type": "code",
   "execution_count": 20,
   "metadata": {},
   "outputs": [
    {
     "name": "stdout",
     "output_type": "stream",
     "text": [
      "[ExpConfig(name='vpg', baseline=False, entropy=False),\n",
      " ExpConfig(name='epg', baseline=False, entropy=True),\n",
      " ExpConfig(name='bpg', baseline=True, entropy=False),\n",
      " ExpConfig(name='cpg', baseline=True, entropy=True)]\n"
     ]
    }
   ],
   "source": [
    "from collections import namedtuple\n",
    "from pprint import pprint\n",
    "import itertools as it\n",
    "\n",
    "\n",
    "ExpConfig = namedtuple('ExpConfig', ('name','baseline','entropy'))\n",
    "\n",
    "def exp_configs():\n",
    "    exp_names = ('vpg', 'epg', 'bpg', 'cpg')\n",
    "    z = zip(exp_names, it.product((False, True), (False, True)))\n",
    "    return (ExpConfig(n, b, e) for (n, (b, e)) in z)\n",
    "\n",
    "pprint(list(exp_configs()))"
   ]
  },
  {
   "cell_type": "markdown",
   "metadata": {},
   "source": [
    "We'll save the training data from each experiment for plotting."
   ]
  },
  {
   "cell_type": "code",
   "execution_count": 21,
   "metadata": {},
   "outputs": [],
   "source": [
    "import pickle\n",
    "\n",
    "def dump_training_data(data, filename):\n",
    "    os.makedirs(os.path.dirname(filename), exist_ok=True)\n",
    "    with open(filename, mode='wb') as file:\n",
    "        pickle.dump(data, file)\n",
    "        \n",
    "def load_training_data(filename):\n",
    "    with open(filename, mode='rb') as file:\n",
    "        return pickle.load(file)"
   ]
  },
  {
   "cell_type": "markdown",
   "metadata": {},
   "source": [
    "Let's run the experiments! We'll run each configuration for a fixed number of episodes so that we can compare them.\n",
    "\n",
    "The results will be saved in a file. To re-run the experiments, delete the `training_data_filename`.\n",
    "\n",
    "Note: You can decrease the number of episodes for each experiment, or only run one experiment until your models start working."
   ]
  },
  {
   "cell_type": "code",
   "execution_count": 22,
   "metadata": {},
   "outputs": [
    {
     "name": "stdout",
     "output_type": "stream",
     "text": [
      "=== Experiment vpg\n",
      "hyperparams: {'batch_size': 32, 'gamma': 0.9, 'beta': 0.5, 'learn_rate': 0.005, 'eps': 1e-08, 'h1': 32, 'h2': 32}\n",
      "=== Training...\n",
      "#124: step=00826520, loss_p=  0.24, m_reward(100)=  57.7 (best=  69.2): 100%|██████████| 4000/4000 [05:00<00:00, 13.31it/s]\n",
      "\n",
      "=== STOPPING - Max episode reached\n",
      "=== Experiment epg\n",
      "hyperparams: {'batch_size': 32, 'gamma': 0.9, 'beta': 0.5, 'learn_rate': 0.005, 'eps': 1e-08, 'h1': 32, 'h2': 32}\n",
      "=== Training...\n",
      "#124: step=00897880, loss_p= -0.53, loss_e= -0.36, m_reward(100)=  18.9 (best=  56.0): 100%|██████████| 4000/4000 [05:23<00:00, 12.35it/s]\n",
      "\n",
      "=== STOPPING - Max episode reached\n",
      "=== Experiment bpg\n",
      "hyperparams: {'batch_size': 32, 'gamma': 0.9, 'beta': 0.5, 'learn_rate': 0.005, 'eps': 1e-08, 'h1': 32, 'h2': 32}\n",
      "=== Training...\n",
      "#124: step=00988297, loss_p= -0.53, baseline=  0.32, m_reward(100)=  26.6 (best=  60.0): 100%|██████████| 4000/4000 [06:09<00:00, 10.84it/s]\n",
      "\n",
      "=== STOPPING - Max episode reached\n",
      "=== Experiment cpg\n",
      "hyperparams: {'batch_size': 32, 'gamma': 0.9, 'beta': 0.5, 'learn_rate': 0.005, 'eps': 1e-08, 'h1': 32, 'h2': 32}\n",
      "=== Training...\n",
      "#124: step=00929344, loss_p= -0.96, baseline=  1.51, loss_e= -0.35, m_reward(100)=  63.0 (best=  70.4): 100%|██████████| 4000/4000 [05:40<00:00, 11.74it/s]\n",
      "\n",
      "=== STOPPING - Max episode reached\n"
     ]
    }
   ],
   "source": [
    "import math\n",
    "\n",
    "exp_max_episodes = 4000\n",
    "\n",
    "results = {}\n",
    "training_data_filename = os.path.join('results', f'part1_exp.dat')\n",
    "\n",
    "# Set to True to force re-run (careful, will delete old experiment results)\n",
    "force_run = False\n",
    "\n",
    "# Skip running if results file exists.\n",
    "if os.path.isfile(training_data_filename) and not force_run:\n",
    "    print(f'=== results file {training_data_filename} exists, skipping experiments.')\n",
    "    results = load_training_data(training_data_filename)\n",
    "    \n",
    "else:\n",
    "    for n, b, e in exp_configs():\n",
    "        print(f'=== Experiment {n}')\n",
    "        results[n] = train_pg(baseline=b, entropy=e, max_episodes=exp_max_episodes, post_batch_fn=None)\n",
    "        \n",
    "    dump_training_data(results, training_data_filename)"
   ]
  },
  {
   "cell_type": "code",
   "execution_count": 23,
   "metadata": {},
   "outputs": [
    {
     "data": {
      "image/png": "[encoded data removed]",
      "text/plain": [
       "<Figure size 1296x864 with 4 Axes>"
      ]
     },
     "metadata": {
      "needs_background": "light"
     },
     "output_type": "display_data"
    }
   ],
   "source": [
    "def plot_experiment_results(results, fig=None):\n",
    "    if fig is None:\n",
    "        fig, _ = plt.subplots(nrows=2, ncols=2, sharex=True, figsize=(18,12))\n",
    "    for i, plot_type in enumerate(('loss_p', 'baseline', 'loss_e', 'mean_reward')):\n",
    "        ax = fig.axes[i]\n",
    "        for exp_name, exp_res in results.items():\n",
    "            if plot_type not in exp_res:\n",
    "                continue\n",
    "            ax.plot(exp_res['episode_num'], exp_res[plot_type], label=exp_name)\n",
    "        ax.set_title(plot_type)\n",
    "        ax.set_xlabel('episode')\n",
    "        ax.legend()\n",
    "    return fig\n",
    "    \n",
    "experiments_results_fig = plot_experiment_results(results)"
   ]
  },
  {
   "cell_type": "markdown",
   "metadata": {},
   "source": [
    "You should see positive training dynamics in the graphs (reward going up).\n",
    "If you don't, use them to further update your model or hyperparams.\n",
    "\n",
    "To pass the test, you'll need to get a best total mean reward of at least 10 in the fixed number of epochs using the combined loss.\n",
    "It's possible to get much higher (over 100)."
   ]
  },
  {
   "cell_type": "code",
   "execution_count": 24,
   "metadata": {},
   "outputs": [
    {
     "name": "stdout",
     "output_type": "stream",
     "text": [
      "Best CPG mean reward: 70.38\n"
     ]
    }
   ],
   "source": [
    "best_cpg_mean_reward = max(results['cpg']['mean_reward'])\n",
    "print(f'Best CPG mean reward: {best_cpg_mean_reward:.2f}')\n",
    "\n",
    "#test.assertGreater(best_cpg_mean_reward, 10)"
   ]
  },
  {
   "cell_type": "markdown",
   "metadata": {},
   "source": [
    "Now let's take a look at a gameplay video of our `cpg` model after the short training!"
   ]
  },
  {
   "cell_type": "code",
   "execution_count": 25,
   "metadata": {},
   "outputs": [
    {
     "name": "stdout",
     "output_type": "stream",
     "text": [
      "300 steps, total reward: 41.55\n"
     ]
    },
    {
     "data": {
      "text/html": [
       "<video src=\"data:video/mp4;base64,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\" controls autoplay width=\"500\" height=\"auto\" />"
      ],
      "text/plain": [
       "<IPython.core.display.HTML object>"
      ]
     },
     "execution_count": 25,
     "metadata": {},
     "output_type": "execute_result"
    }
   ],
   "source": [
    "hp = hw4.answers.part1_pg_hyperparams()\n",
    "p_net_cpg = hw4pg.PolicyNet.build_for_env(env, **hp)\n",
    "p_net_cpg.load_state_dict(results['cpg']['model_state'])\n",
    "\n",
    "env, n_steps, reward = hw4pg.PolicyAgent.monitor_episode(ENV_NAME, p_net_cpg)\n",
    "print(f'{n_steps} steps, total reward: {reward:.2f}')\n",
    "show_monitor_video(env)"
   ]
  },
  {
   "cell_type": "markdown",
   "metadata": {},
   "source": []
  },
  {
   "cell_type": "markdown",
   "metadata": {},
   "source": [
    "But how will we know $v_\\pi(s)$? We'll learn it of course, using another neural network.\n",
    "This is known as actor-critic learning. We simultaneously learn the policy (actor) and the value of states (critic).\n",
    "We'll treat it as a regression task: given a state $s_t$, our state-value network will output $\\hat{v}_\\pi(s_t)$,\n",
    "an estimate of the actual unknown state-value.\n",
    "Our regression targets will be the discounted rewards, $\\hat{q}_{i,t}$ (see question 2),\n",
    "and we can use a simple MSE as the loss function,\n",
    "$$\n",
    "\\mathcal{L}_{\\text{SV}} = \\frac{1}{N}\\sum_{i=1}^{N}\\sum_{t\\geq0}\\left(\\hat{v}_\\pi(s_t) - \\hat{q}_{i,t}\\right)^2.\n",
    "$$\n"
   ]
  },
  {
   "cell_type": "markdown",
   "metadata": {},
   "source": [
    "### Implementation"
   ]
  }
 ],
 "metadata": {
  "kernelspec": {
   "display_name": "Python 3",
   "language": "python",
   "name": "python3"
  },
  "language_info": {
   "codemirror_mode": {
    "name": "ipython",
    "version": 3
   },
   "file_extension": ".py",
   "mimetype": "text/x-python",
   "name": "python",
   "nbconvert_exporter": "python",
   "pygments_lexer": "ipython3",
   "version": "3.7.5"
  }
 },
 "nbformat": 4,
 "nbformat_minor": 4
}
